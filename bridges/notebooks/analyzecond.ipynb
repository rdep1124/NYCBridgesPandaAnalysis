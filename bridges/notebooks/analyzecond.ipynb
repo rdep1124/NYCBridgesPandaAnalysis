{
 "cells": [
  {
   "cell_type": "code",
   "execution_count": 1,
   "id": "4116595a-b051-4b55-853e-216e70e3396f",
   "metadata": {},
   "outputs": [],
   "source": [
    "import pandas as pd"
   ]
  },
  {
   "cell_type": "code",
   "execution_count": 2,
   "id": "9a563c02-df9f-4eaa-b992-111bad62ffd1",
   "metadata": {},
   "outputs": [
    {
     "data": {
      "text/html": [
       "<div>\n",
       "<style scoped>\n",
       "    .dataframe tbody tr th:only-of-type {\n",
       "        vertical-align: middle;\n",
       "    }\n",
       "\n",
       "    .dataframe tbody tr th {\n",
       "        vertical-align: top;\n",
       "    }\n",
       "\n",
       "    .dataframe thead th {\n",
       "        text-align: right;\n",
       "    }\n",
       "</style>\n",
       "<table border=\"1\" class=\"dataframe\">\n",
       "  <thead>\n",
       "    <tr style=\"text-align: right;\">\n",
       "      <th></th>\n",
       "      <th>Region</th>\n",
       "      <th>County</th>\n",
       "      <th>Municipality</th>\n",
       "      <th>BIN</th>\n",
       "      <th>Location</th>\n",
       "      <th>Feature Carried</th>\n",
       "      <th>Feature Crossed</th>\n",
       "      <th>Owner</th>\n",
       "      <th>Year Built or Replaced</th>\n",
       "      <th>Date of Last Inspection</th>\n",
       "      <th>Poor Status</th>\n",
       "    </tr>\n",
       "  </thead>\n",
       "  <tbody>\n",
       "    <tr>\n",
       "      <th>0</th>\n",
       "      <td>1</td>\n",
       "      <td>Albany</td>\n",
       "      <td>Albany (City)</td>\n",
       "      <td>1053380</td>\n",
       "      <td>0.1 MI N JCT RTE 5 &amp; I90</td>\n",
       "      <td>5 X</td>\n",
       "      <td>PATROON CREEK</td>\n",
       "      <td>City</td>\n",
       "      <td>1968</td>\n",
       "      <td>08/07/2018</td>\n",
       "      <td>N</td>\n",
       "    </tr>\n",
       "    <tr>\n",
       "      <th>1</th>\n",
       "      <td>1</td>\n",
       "      <td>Albany</td>\n",
       "      <td>Albany (City)</td>\n",
       "      <td>1092549</td>\n",
       "      <td>JCT US 9 &amp; PATROON CREEK</td>\n",
       "      <td>9   9 11081025</td>\n",
       "      <td>CSX TRANS/ AMTRAK</td>\n",
       "      <td>NYSDOT</td>\n",
       "      <td>1971</td>\n",
       "      <td>12/06/2017</td>\n",
       "      <td>N</td>\n",
       "    </tr>\n",
       "    <tr>\n",
       "      <th>2</th>\n",
       "      <td>1</td>\n",
       "      <td>Albany</td>\n",
       "      <td>Albany (City)</td>\n",
       "      <td>1092509</td>\n",
       "      <td>JCT RTE 9 &amp; I90</td>\n",
       "      <td>9   9 11081028</td>\n",
       "      <td>RAMP TO 90I EB</td>\n",
       "      <td>NYSDOT</td>\n",
       "      <td>1971</td>\n",
       "      <td>07/29/2019</td>\n",
       "      <td>N</td>\n",
       "    </tr>\n",
       "    <tr>\n",
       "      <th>3</th>\n",
       "      <td>1</td>\n",
       "      <td>Albany</td>\n",
       "      <td>Albany (City)</td>\n",
       "      <td>1093029</td>\n",
       "      <td>DOWNTOWN ALBANY</td>\n",
       "      <td>9 X</td>\n",
       "      <td>HUDSON RIVER</td>\n",
       "      <td>NYSDOT</td>\n",
       "      <td>1969</td>\n",
       "      <td>11/10/2019</td>\n",
       "      <td>N</td>\n",
       "    </tr>\n",
       "    <tr>\n",
       "      <th>4</th>\n",
       "      <td>1</td>\n",
       "      <td>Albany</td>\n",
       "      <td>Albany (City)</td>\n",
       "      <td>1054460</td>\n",
       "      <td>0.1 MI S JCT RT 9W &amp; I787</td>\n",
       "      <td>9W  9W11012007</td>\n",
       "      <td>787IX</td>\n",
       "      <td>NYSDOT</td>\n",
       "      <td>1966</td>\n",
       "      <td>04/30/2019</td>\n",
       "      <td>N</td>\n",
       "    </tr>\n",
       "  </tbody>\n",
       "</table>\n",
       "</div>"
      ],
      "text/plain": [
       "   Region  County   Municipality      BIN                   Location  \\\n",
       "0       1  Albany  Albany (City)  1053380   0.1 MI N JCT RTE 5 & I90   \n",
       "1       1  Albany  Albany (City)  1092549   JCT US 9 & PATROON CREEK   \n",
       "2       1  Albany  Albany (City)  1092509            JCT RTE 9 & I90   \n",
       "3       1  Albany  Albany (City)  1093029            DOWNTOWN ALBANY   \n",
       "4       1  Albany  Albany (City)  1054460  0.1 MI S JCT RT 9W & I787   \n",
       "\n",
       "  Feature Carried    Feature Crossed   Owner  Year Built or Replaced  \\\n",
       "0             5 X      PATROON CREEK    City                    1968   \n",
       "1  9   9 11081025  CSX TRANS/ AMTRAK  NYSDOT                    1971   \n",
       "2  9   9 11081028     RAMP TO 90I EB  NYSDOT                    1971   \n",
       "3             9 X       HUDSON RIVER  NYSDOT                    1969   \n",
       "4  9W  9W11012007              787IX  NYSDOT                    1966   \n",
       "\n",
       "  Date of Last Inspection Poor Status  \n",
       "0              08/07/2018           N  \n",
       "1              12/06/2017           N  \n",
       "2              07/29/2019           N  \n",
       "3              11/10/2019           N  \n",
       "4              04/30/2019           N  "
      ]
     },
     "execution_count": 2,
     "metadata": {},
     "output_type": "execute_result"
    }
   ],
   "source": [
    "bridges_conditions = pd.read_csv('../data/Bridge_Conditions__NYS_Department_of_Transportation - Bridge_Conditions__NYS_Department_of_Transportation.csv')\n",
    "\n",
    "bridges_conditions.head()"
   ]
  },
  {
   "cell_type": "code",
   "execution_count": 5,
   "id": "d0cbb022-f556-4cf3-b433-c5b712a70630",
   "metadata": {},
   "outputs": [
    {
     "data": {
      "text/plain": [
       "Index(['Region', 'County', 'Municipality', 'BIN', 'Location',\n",
       "       'Feature Carried', 'Feature Crossed', 'Owner', 'Year Built or Replaced',\n",
       "       'Date of Last Inspection', 'Poor Status'],\n",
       "      dtype='object')"
      ]
     },
     "execution_count": 5,
     "metadata": {},
     "output_type": "execute_result"
    }
   ],
   "source": [
    "bridges_conditions.columns"
   ]
  },
  {
   "cell_type": "code",
   "execution_count": 6,
   "id": "7354dde9-a438-4aa8-87bb-01ae3ba45cd4",
   "metadata": {},
   "outputs": [
    {
     "data": {
      "text/plain": [
       "poorstatus\n",
       "False    15834\n",
       "True      1698\n",
       "Name: count, dtype: int64"
      ]
     },
     "execution_count": 6,
     "metadata": {},
     "output_type": "execute_result"
    }
   ],
   "source": [
    "bridges_conditions['poorstatus'] = bridges_conditions['Poor Status'].str.contains('Y')\n",
    "bridges_conditions['poorstatus'].value_counts()"
   ]
  }
 ],
 "metadata": {
  "kernelspec": {
   "display_name": "Python 3 (ipykernel)",
   "language": "python",
   "name": "python3"
  },
  "language_info": {
   "codemirror_mode": {
    "name": "ipython",
    "version": 3
   },
   "file_extension": ".py",
   "mimetype": "text/x-python",
   "name": "python",
   "nbconvert_exporter": "python",
   "pygments_lexer": "ipython3",
   "version": "3.12.2"
  }
 },
 "nbformat": 4,
 "nbformat_minor": 5
}
